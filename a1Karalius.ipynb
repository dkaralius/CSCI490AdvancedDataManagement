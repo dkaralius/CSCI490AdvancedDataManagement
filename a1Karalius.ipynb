{
 "cells": [
  {
   "cell_type": "code",
   "execution_count": null,
   "metadata": {},
   "outputs": [],
   "source": [
    "# EXECUTE BUT DO NOT CHANGE THIS CELL!\n",
    "# check function definitions\n",
    "\n",
    "import hashlib\n",
    "def check1(num_names):\n",
    "    if (hashlib.sha256(str(num_names).encode('utf-8')).hexdigest() == \n",
    "        '23c657f2efda7731a3c1990b25f318fa2eb1332208f97ab9cc2a7eac70ab5a76'):\n",
    "        print(\"PROBLEM 1 CORRECT\")\n",
    "    else:\n",
    "        print(\"PROBLEM 1 INCORRECT\")\n",
    "\n",
    "def check2(top_name):\n",
    "    if (hashlib.sha256(str(top_name).encode('utf-8')).hexdigest() == \n",
    "        '8f7489eb3c242628d0c9d99d769669340f961652e2f25e314c659c06aac73885'):\n",
    "        print(\"PROBLEM 2 CORRECT\")\n",
    "    else:\n",
    "        print(\"PROBLEM 2 INCORRECT\")\n",
    "\n",
    "def check3(top_year):\n",
    "    if (hashlib.sha256(str(top_year).encode('utf-8')).hexdigest() == \n",
    "        'a20a2b7bb0842d5cf8a0c06c626421fd51ec103925c1819a51271f2779afa730'):\n",
    "        print(\"PROBLEM 3 CORRECT\")\n",
    "    else:\n",
    "        print(\"PROBLEM 3 INCORRECT\")\n",
    "\n",
    "\n",
    "def check4(southmost_name, southmost_year):\n",
    "    if (hashlib.sha256((str(southmost_name) + str(southmost_year)).encode('utf-8')).hexdigest() == \n",
    "        'bc24138c5dba2a6eada740f5de6e9915bc3c504d97e1f7c009b9f790c8db9e28'):\n",
    "        print(\"PROBLEM 4 CORRECT\")\n",
    "    else:\n",
    "        print(\"PROBLEM 4 INCORRECT\")\n",
    "\n",
    "def check5(top_wind_name, top_wind_year, top_wind_speed):\n",
    "    if (hashlib.sha256((str(top_wind_name) + str(top_wind_year) + str(int(float(top_wind_speed)))).encode('utf-8')).hexdigest() == \n",
    "        '0a6ce2c3bbf53522f329e5ff3724f6234dca8954b6c12a91c383b41cf15cc554'):\n",
    "        print(\"PROBLEM 5 CORRECT\")\n",
    "    else:\n",
    "        print(\"PROBLEM 5 INCORRECT\")"
   ]
  },
  {
   "cell_type": "code",
   "execution_count": null,
   "metadata": {},
   "outputs": [],
   "source": [
    "import os\n",
    "from urllib.request import urlretrieve\n",
    "\n",
    "# download the data if we don't have it locally\n",
    "url = \"https://www.nhc.noaa.gov/data/hurdat/hurdat2-1851-2018-120319.txt\"\n",
    "local_fname = \"hurdat2.txt\"\n",
    "if not os.path.exists(\"hurdat2.txt\"):\n",
    "    urlretrieve(url, local_fname)\n",
    "\n",
    "# very primtive way of reading the data\n",
    "# can be improved\n",
    "records = []\n",
    "with open(local_fname,'r') as f:\n",
    "    for line in f:\n",
    "        if line.startswith(\"AL\"):\n",
    "            record = line.strip()\n",
    "            reports = []\n",
    "            records.append((record, reports))\n",
    "        else:\n",
    "            reports.append(line.strip())\n",
    "records"
   ]
  },
  {
   "cell_type": "markdown",
   "metadata": {},
   "source": [
    "Each record is a tuple that consists of\n",
    "0. a string with the hurricane info \n",
    "1. a list of track points where each point is as documented [here](https://www.nhc.noaa.gov/data/hurdat/hurdat2-format-atlantic.pdf)"
   ]
  },
  {
   "cell_type": "code",
   "execution_count": null,
   "metadata": {},
   "outputs": [],
   "source": [
    "# the first record\n",
    "records[0]"
   ]
  },
  {
   "cell_type": "code",
   "execution_count": null,
   "metadata": {},
   "outputs": [],
   "source": [
    "# records[0]'s hurricane info including identifier, name, and number of points\n",
    "records[0][0]"
   ]
  },
  {
   "cell_type": "code",
   "execution_count": null,
   "metadata": {},
   "outputs": [],
   "source": [
    "# records[0]'s list with all of the points\n",
    "records[0][1]"
   ]
  },
  {
   "cell_type": "code",
   "execution_count": null,
   "metadata": {},
   "outputs": [],
   "source": [
    "# print the years of the hurricanes\n",
    "for record in records:\n",
    "    first_entry = record[0].split(',')[0]\n",
    "    year = first_entry[-4:]\n",
    "    print(year)"
   ]
  },
  {
   "cell_type": "markdown",
   "metadata": {},
   "source": [
    "## Problem 1\n",
    "\n",
    "Read each record in records and split the name of the hurricane from the whole hurricane record. Check to see if the hurricane name is not \"UNNAMED\". If it is not, append the hurricane name to a list. Check the list for any repeating names, if there is an already existing hurricane by that name, continue."
   ]
  },
  {
   "cell_type": "code",
   "execution_count": 4,
   "metadata": {},
   "outputs": [
    {
     "name": "stdout",
     "output_type": "stream",
     "text": [
      "Number of unique hurricane names: 288\n"
     ]
    }
   ],
   "source": [
    "uniqueList = [] # Used to store unique names\n",
    "\n",
    "for record in records:\n",
    "    name = record[0].split(',')[1]\n",
    "    name = name.strip()\n",
    "    # check to see if hurricane name is not UNNAMED\n",
    "    if name != \"UNNAMED\":\n",
    "        if name not in uniqueList:\n",
    "            uniqueList.append(name)\n",
    "\n",
    "print(\"Number of unique hurricane names:\",len(uniqueList))"
   ]
  },
  {
   "cell_type": "code",
   "execution_count": 5,
   "metadata": {},
   "outputs": [
    {
     "name": "stdout",
     "output_type": "stream",
     "text": [
      "PROBLEM 1 CORRECT\n"
     ]
    }
   ],
   "source": [
    "# check your solution\n",
    "check1(288) # the total number of hurricanes in the dataset"
   ]
  },
  {
   "cell_type": "markdown",
   "metadata": {},
   "source": [
    "## Problem 2\n",
    "\n",
    "Read each record in records and split the name of the hurricane from the whole hurricane record. Check to see if the hurricane name is not \"UNNAMED\". If it is not, append the hurricane name to a list. Then use the collections.Counter() structure along with the .most_common() method to find the hurricane name that appears the most in the list. "
   ]
  },
  {
   "cell_type": "code",
   "execution_count": 8,
   "metadata": {},
   "outputs": [
    {
     "name": "stdout",
     "output_type": "stream",
     "text": [
      "Most Frequently Used Name: ARLENE\n"
     ]
    }
   ],
   "source": [
    "from collections import Counter\n",
    "\n",
    "List = [] # Used to store hurricane names\n",
    "\n",
    "for record in records:\n",
    "    name = record[0].split(',')[1]\n",
    "    name = name.strip()\n",
    "    # check to see if hurricane name is not UNNAMED\n",
    "    if name != \"UNNAMED\":\n",
    "        List.append(name)\n",
    "            \n",
    "Counter(List).most_common(1)\n",
    "name = Counter(List).most_common(1)[0]\n",
    "print(\"Most Frequently Used Name:\",name[0])"
   ]
  },
  {
   "cell_type": "code",
   "execution_count": 1,
   "metadata": {},
   "outputs": [
    {
     "ename": "NameError",
     "evalue": "name 'check2' is not defined",
     "output_type": "error",
     "traceback": [
      "\u001b[1;31m---------------------------------------------------------------------------\u001b[0m",
      "\u001b[1;31mNameError\u001b[0m                                 Traceback (most recent call last)",
      "\u001b[1;32m<ipython-input-1-d0ca3e188edb>\u001b[0m in \u001b[0;36m<module>\u001b[1;34m\u001b[0m\n\u001b[0;32m      1\u001b[0m \u001b[1;31m# check your solution\u001b[0m\u001b[1;33m\u001b[0m\u001b[1;33m\u001b[0m\u001b[1;33m\u001b[0m\u001b[0m\n\u001b[1;32m----> 2\u001b[1;33m \u001b[0mcheck2\u001b[0m\u001b[1;33m(\u001b[0m\u001b[1;34m\"ARLENE\"\u001b[0m\u001b[1;33m)\u001b[0m \u001b[1;31m# the most frequent hurricane name\u001b[0m\u001b[1;33m\u001b[0m\u001b[1;33m\u001b[0m\u001b[0m\n\u001b[0m",
      "\u001b[1;31mNameError\u001b[0m: name 'check2' is not defined"
     ]
    }
   ],
   "source": [
    "# check your solution\n",
    "check2(\"ARLENE\") # the most frequent hurricane name"
   ]
  },
  {
   "cell_type": "markdown",
   "metadata": {},
   "source": [
    "## Problem 3\n",
    "\n",
    "Read each record in records and split the name of the hurricane from the whole hurricane record. Append the hurricane year to a list. Then use the collections.Counter() structure along with the .most_common() method to find the hurricane year that appears the most in the list."
   ]
  },
  {
   "cell_type": "code",
   "execution_count": 10,
   "metadata": {},
   "outputs": [
    {
     "name": "stdout",
     "output_type": "stream",
     "text": [
      "Year with Most Hurricanes: 2005\n"
     ]
    }
   ],
   "source": [
    "List = [] # Used to store hurricane years\n",
    "\n",
    "for record in records:\n",
    "    first_entry = record[0].split(',')[0]\n",
    "    year = first_entry[-4:]\n",
    "    List.append(year)\n",
    "    \n",
    "Counter(List).most_common(1)\n",
    "year = Counter(List).most_common(1)[0]\n",
    "print(\"Year with Most Hurricanes:\",year[0])"
   ]
  },
  {
   "cell_type": "code",
   "execution_count": 11,
   "metadata": {},
   "outputs": [
    {
     "name": "stdout",
     "output_type": "stream",
     "text": [
      "PROBLEM 3 CORRECT\n"
     ]
    }
   ],
   "source": [
    "# check your solution\n",
    "check3(2005) # the year with the most hurricanes"
   ]
  },
  {
   "cell_type": "markdown",
   "metadata": {},
   "source": [
    "## Problem 4\n",
    "\n",
    "Iterates through each record, and then iterates again through each point for each record, recording the latitude of each point. In this process, it removes the \"N\" and appends it to a list that will hold all latitudes. Next, the min() method is called to find the minimum latitude. We iterate through all points again and find which hurricane the minimum latitude belongs to. We then record the name and year of the hurricane and print it to output."
   ]
  },
  {
   "cell_type": "code",
   "execution_count": 12,
   "metadata": {},
   "outputs": [
    {
     "name": "stdout",
     "output_type": "stream",
     "text": [
      "Most Southerly Hurricane was ISIDORE in 1990 with a latitude of 7.2N .\n"
     ]
    }
   ],
   "source": [
    "# 1st index = full hurricane record between 0 and ~1800.\n",
    "# 2nd index = [0] or [1].\n",
    "    # if [0], return hurricane info including identifier, name, and number of points\n",
    "    # if [1], list with all of the points\n",
    "# 3rd index = controls the point. CAN be out of index\n",
    "\n",
    "List = [] # Used to hold latitudes\n",
    "\n",
    "for idx, val in enumerate(records):\n",
    "    for i in range(len(val[1])):\n",
    "        latitude = val[1][i].split(',')[4]\n",
    "        latitude = latitude[:-1] # Removes the N\n",
    "        List.append(latitude)\n",
    "        \n",
    "minimumLatitude = min(List)\n",
    "\n",
    "\n",
    "for idx, val in enumerate(records):\n",
    "    for i in range(len(val[1])):\n",
    "        latitude = val[1][i].split(',')[4]\n",
    "        latitude = latitude[:-1] # Removes the N\n",
    "        if latitude == minimumLatitude:\n",
    "            year = val[0].split(',')[0]\n",
    "            year = year[-4:]\n",
    "            name = val[0].split(',')[1]\n",
    "            name = name.strip()\n",
    "            latitude = latitude.strip()\n",
    "            print(\"Most Southerly Hurricane was\", name , \"in\", year, \"with a latitude of\", latitude + \"N\", \".\")\n",
    "        else:\n",
    "            continue\n"
   ]
  },
  {
   "cell_type": "code",
   "execution_count": 13,
   "metadata": {},
   "outputs": [
    {
     "name": "stdout",
     "output_type": "stream",
     "text": [
      "PROBLEM 4 CORRECT\n"
     ]
    }
   ],
   "source": [
    "# check your solution\n",
    "check4(\"ISIDORE\", 1990) # the hurricane that reached the highest latitude and year"
   ]
  },
  {
   "cell_type": "markdown",
   "metadata": {},
   "source": [
    "## Problem 5\n",
    "\n",
    "Iterates through each record, and then iterates again through each point for each record, recording the maximum sustained windspeed of each point. In this process, the wind speed is appended to a list that will hold all wind speeds. Next, the max() method is called to find the maximum sustained windspeed. We iterate through all points again and find which hurricane the maximum windspeed belongs to. We then record the name and year of the hurricane and print it to output."
   ]
  },
  {
   "cell_type": "code",
   "execution_count": 16,
   "metadata": {},
   "outputs": [
    {
     "name": "stdout",
     "output_type": "stream",
     "text": [
      "Hurricane with Maximum Sustained Wind was ALLEN in 1980 with a wind speed of 165 knots.\n"
     ]
    }
   ],
   "source": [
    "List = [] # Used to hold latitudes\n",
    "\n",
    "for idx, val in enumerate(records):\n",
    "    for i in range(len(val[1])):\n",
    "        windSpeed = val[1][i].split(',')[6]\n",
    "        List.append(windSpeed)\n",
    "        \n",
    "maximumWindspeed = max(List)\n",
    "\n",
    "for idx, val in enumerate(records):\n",
    "    for i in range(len(val[1])):\n",
    "        windSpeed = val[1][i].split(',')[6]\n",
    "        if windSpeed == maximumWindspeed:\n",
    "            year = val[0].split(',')[0]\n",
    "            year = year[-4:]\n",
    "            name = val[0].split(',')[1]\n",
    "            name = name.strip()\n",
    "            windSpeed = windSpeed.strip()\n",
    "            print(\"Hurricane with Maximum Sustained Wind was\", name , \"in\", year, \"with a wind speed of\", windSpeed, \"knots.\")\n",
    "        else:\n",
    "            continue"
   ]
  },
  {
   "cell_type": "code",
   "execution_count": 17,
   "metadata": {},
   "outputs": [
    {
     "name": "stdout",
     "output_type": "stream",
     "text": [
      "PROBLEM 5 CORRECT\n"
     ]
    }
   ],
   "source": [
    "# check your solution\n",
    "check5(\"ALLEN\", 1980, 165) # the hurricane that had the highest sustained winds and year and wind speed"
   ]
  },
  {
   "cell_type": "code",
   "execution_count": null,
   "metadata": {},
   "outputs": [],
   "source": []
  }
 ],
 "metadata": {
  "kernelspec": {
   "display_name": "Python 3",
   "language": "python",
   "name": "python3"
  },
  "language_info": {
   "codemirror_mode": {
    "name": "ipython",
    "version": 3
   },
   "file_extension": ".py",
   "mimetype": "text/x-python",
   "name": "python",
   "nbconvert_exporter": "python",
   "pygments_lexer": "ipython3",
   "version": "3.7.4"
  }
 },
 "nbformat": 4,
 "nbformat_minor": 4
}
